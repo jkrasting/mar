{
 "cells": [
  {
   "cell_type": "markdown",
   "id": "a60a0cde-a431-4583-b249-2d4aaa1bbfff",
   "metadata": {},
   "source": [
    "# Tidal energy conversion in the deep ocean\n",
    "\n",
    "The inverse model of Egbert and Ray (2000) provides an observational target for the inferred dissipation of the barotropic tide by conversion into baroclinic tides. They estimate that 1±0.25 TW of energy is transfered from the barotropic tide to baroclinic modes **in the deep ocean**. \n",
    "\n",
    "In previous model evaluations (e.g. [Adcroft et al. 2019](https://agupubs.onlinelibrary.wiley.com/doi/full/10.1029/2019MS001726)), the global integral of the `TKE_itidal` output has been compared to this 1 TW number. However, a more appropriate comparison would be to only integrate `TKE_itidal` over a comparable deep ocean mask as used by Egbert and Ray; this is what is done in this notebook."
   ]
  },
  {
   "cell_type": "code",
   "execution_count": null,
   "id": "f7c87840-1d0b-4421-bab4-bf2b54fbdc34",
   "metadata": {},
   "outputs": [],
   "source": [
    "import os\n",
    "import datetime"
   ]
  },
  {
   "cell_type": "code",
   "execution_count": null,
   "id": "c0ae5632-b91f-4fe1-a3ee-d0ee5be7b618",
   "metadata": {},
   "outputs": [],
   "source": [
    "config = {\n",
    "    \"startyr\": \"1958\",\n",
    "    \"endyr\": \"2022\",\n",
    "    \"dora_id\": \"odiv-319, odiv-368, odiv-399\", # try with just \"odiv-319\" as well.\n",
    "    \"pathPP\": None,\n",
    "}"
   ]
  },
  {
   "cell_type": "code",
   "execution_count": null,
   "id": "edb2a910-f45c-4813-a962-2dee224f3f54",
   "metadata": {},
   "outputs": [],
   "source": [
    "import doralite\n",
    "import glob\n",
    "import subprocess "
   ]
  },
  {
   "cell_type": "code",
   "execution_count": null,
   "id": "10fc1ece-b948-4b86-8e36-db7ee12fc550",
   "metadata": {},
   "outputs": [],
   "source": [
    "odiv_projects = doralite.list_project(\"odiv\")['project']\n",
    "OM5_experiments = [e for e in odiv_projects if e['title'] == \"OM5 experiments\"][0]['experiments']"
   ]
  },
  {
   "cell_type": "markdown",
   "id": "841732ef-670d-493e-a7d6-d231b3adc5a2",
   "metadata": {},
   "source": [
    "MAR will pass for environment variables to the script when running via the web engine:\n",
    "\n",
    "* `MAR_STARTYR`: A `str` of the beginning year of analysis from model\n",
    "* `MAR_ENDYR`: A `str` of the ending year of analysis from model\n",
    "* `MAR_DORA_ID`: A `str` of the experiment ID in the database for a single experiment, e.g. `\"odiv-1\"`, or comma-separated experiments, e.g. `\"odiv-1, odiv-2\"`\n",
    "* `MAR_PATHPP`: A `str` of the top-level path to the post-processing experiment directory of the experiment\n",
    "\n",
    "The block below will use values passed in by Dora but default to the values defined above in `config`. This is useful for interactive usage and debugging.\n",
    "\n",
    "If executed from Dora, there will also be a `DORA_EXECUTE` variable that is set."
   ]
  },
  {
   "cell_type": "code",
   "execution_count": null,
   "id": "998f05e1-5c07-474b-8ebe-3be8509aad2c",
   "metadata": {},
   "outputs": [],
   "source": [
    "for k, v in config.items():\n",
    "    if f\"MAR_{k.upper()}\" in os.environ.keys():\n",
    "        c = os.environ[f\"MAR_{k.upper()}\"]\n",
    "    else:\n",
    "        c = v\n",
    "    if k==\"dora_id\" and (type(v) is not list): \n",
    "        c = [e.strip(\" \") for e in c.split(\",\")]\n",
    "    config[k] = c"
   ]
  },
  {
   "cell_type": "code",
   "execution_count": null,
   "id": "078c3e17-d2f4-4d67-8648-216ce4f27854",
   "metadata": {},
   "outputs": [],
   "source": [
    "import numpy as np\n",
    "import xarray as xr\n",
    "import matplotlib.pyplot as plt\n",
    "import cartopy.crs as ccrs\n",
    "\n",
    "from matplotlib.colors import ListedColormap, BoundaryNorm"
   ]
  },
  {
   "cell_type": "code",
   "execution_count": null,
   "id": "85dbfe9e-487d-4772-a764-bf0bca3f6b0c",
   "metadata": {},
   "outputs": [],
   "source": [
    "# momgrid will use a directory of pre-computed weights that is used for calculating basic area-weighted statistics later\n",
    "import momgrid\n",
    "os.environ[\"MOMGRID_WEIGHTS_DIR\"] = \"/nbhome/John.Krasting/grid_weights\""
   ]
  },
  {
   "cell_type": "markdown",
   "id": "5ce55f6e-9c30-4cf1-aefe-0fab604d89c4",
   "metadata": {},
   "source": [
    "## Define local parameters"
   ]
  },
  {
   "cell_type": "code",
   "execution_count": null,
   "id": "4d53f32a-5db6-439e-ad86-129aa5d9ef56",
   "metadata": {},
   "outputs": [],
   "source": [
    "# Define some local variables. These are taken from the doralite object\n",
    "# or they can be defined locally\n",
    "\n",
    "def get_local_params(config):\n",
    "    experiments = {dora_id: doralite.dora_metadata(dora_id) for dora_id in config[\"dora_id\"]}\n",
    "    params = {\n",
    "        dora_id: {\n",
    "            \"experiment\": experiment,\n",
    "            \"pathPP\": experiment[\"pathPP\"],\n",
    "            'expName': experiment['expName']\n",
    "        }\n",
    "        for dora_id, experiment in experiments.items()\n",
    "    }\n",
    "    return params\n",
    "\n",
    "start = int(config[\"startyr\"])\n",
    "end = int(config[\"endyr\"])\n",
    "params = get_local_params(config)"
   ]
  },
  {
   "cell_type": "code",
   "execution_count": null,
   "id": "1626f640-2c6a-4aa1-8dd7-b15389d9ab0c",
   "metadata": {},
   "outputs": [],
   "source": [
    "# Determine what files are needed (leave this up to the developer for flexibility)\n",
    "# This is an example of what someone might do:\n",
    "\n",
    "component = \"ocean_annual\"\n",
    "static = f\"{component}/{component}.static.nc\"\n",
    "varname = \"TKE_itidal\"\n",
    "\n",
    "chunk = \"5yr\"\n",
    "\n",
    "list_of_filelists = [\n",
    "    glob.glob(f\"{p['pathPP']}{component}/ts/**/{chunk}/{component}.*.{varname}.nc\", recursive=True)\n",
    "    for p in params.values() \n",
    "]"
   ]
  },
  {
   "cell_type": "code",
   "execution_count": null,
   "id": "5acf2294-0cdd-4cfa-9018-fb3f4d88840b",
   "metadata": {},
   "outputs": [],
   "source": [
    "def is_in_range(file,start,end):\n",
    "    start = int(start)\n",
    "    end = int(end)\n",
    "    target = set(list(range(start,end+1)))\n",
    "    fname = os.path.basename(file)\n",
    "    times = fname.split(\".\")[1]\n",
    "    times = times.split(\"-\")\n",
    "    times = [int(x[0:4]) for x in times]\n",
    "    candidate = set(list(range(times[0],times[1]+1)))\n",
    "    return len(candidate.intersection(target)) > 0\n",
    "\n",
    "import itertools\n",
    "list_of_filelists = [[x for x in filelist if is_in_range(x,start,end)] for filelist in list_of_filelists]\n",
    "filelist = sorted(list(itertools.chain.from_iterable(list_of_filelists)))\n",
    "\n",
    "staticfiles = [f\"{p['pathPP']}/{static}\" for p in params.values()]\n",
    "\n",
    "_ = [print(x) for x in filelist]"
   ]
  },
  {
   "cell_type": "markdown",
   "id": "557c9908-fcc5-453a-86f7-143444f3ec26",
   "metadata": {},
   "source": [
    "### DMgetting Files\n",
    "\n",
    "Dora cannot issue calls to dmget."
   ]
  },
  {
   "cell_type": "code",
   "execution_count": null,
   "id": "c444344f-d51b-44cc-9128-9f7d0747d186",
   "metadata": {},
   "outputs": [],
   "source": [
    "if not \"DORA_EXECUTE\" in os.environ.keys():\n",
    "    print(\"Calling dmget on files ...\")\n",
    "    cmd = [\"dmget\"]+filelist+staticfiles\n",
    "    _ = subprocess.check_output(cmd)"
   ]
  },
  {
   "cell_type": "code",
   "execution_count": null,
   "id": "32a5e4ed-d3eb-414e-b1cb-ee75408e598e",
   "metadata": {},
   "outputs": [],
   "source": [
    "models = {}\n",
    "for odiv, filelist, staticfile in zip(params.keys(), list_of_filelists, staticfiles):\n",
    "\n",
    "    if len(filelist)==0:\n",
    "        print(f\"Files not available for {odiv}\")\n",
    "        continue\n",
    "        \n",
    "    gds = momgrid.Gridset(filelist, force_symmetric=True, return_corners=True)\n",
    "    gds.data = gds.data.sel(time=slice(f\"{str(start).zfill(4)}-01-01\",f\"{str(end).zfill(4)}-12-31\"))\n",
    "\n",
    "    og = xr.open_dataset(staticfile)\n",
    "    og = og.assign_coords({\"xh\":gds.data.xh, \"yh\":gds.data.yh})\n",
    "\n",
    "    models[odiv] = {\"gds\":gds, \"og\":og}"
   ]
  },
  {
   "cell_type": "code",
   "execution_count": null,
   "id": "520d89c5-736b-4e99-b339-33b1079f01d0",
   "metadata": {},
   "outputs": [],
   "source": [
    "dl = 8\n",
    "cutoff_depth = 2500\n",
    "\n",
    "plt.figure(figsize=(15, 4))\n",
    "plt.subplot(1,3,2)\n",
    "plt.axhline(1.0, color=\"k\", linewidth=6, alpha=0.4, label=\"Egbert and Ray (2000) observational target\")\n",
    "\n",
    "for odiv, model in models.items():\n",
    "    local_tidal_energy_conversion = model[\"gds\"].data.TKE_itidal*model[\"gds\"].data.areacello\n",
    "\n",
    "    smoothed_depth = model[\"og\"].deptho.fillna(0.).rolling({\"xh\":dl, \"yh\":dl}).mean()\n",
    "    smooth_deep_mask = smoothed_depth.values > cutoff_depth\n",
    "\n",
    "    global_tidal_energy_conversion = local_tidal_energy_conversion.sum([\"xh\", \"yh\"]).compute() * 1e-12\n",
    "    deep_tidal_energy_conversion = local_tidal_energy_conversion.where(smooth_deep_mask).sum([\"xh\", \"yh\"]).compute() * 1e-12\n",
    "    shallow_tidal_energy_conversion = global_tidal_energy_conversion - deep_tidal_energy_conversion\n",
    "\n",
    "    plt.subplot(1,3,1)\n",
    "    shallow_tidal_energy_conversion.plot(label=f\"{odiv} ({params[odiv]['expName']})\")\n",
    "    plt.ylabel(\"Shallow Baroclinic Conversion [TW]\")\n",
    "    \n",
    "    plt.subplot(1,3,2)\n",
    "    deep_tidal_energy_conversion.plot(label=f\"{odiv} ({params[odiv]['expName']})\")\n",
    "    plt.ylabel(\"Deep Baroclinic Conversion [TW]\")\n",
    "    \n",
    "    plt.subplot(1,3,3)\n",
    "    global_tidal_energy_conversion.plot(label=f\"{odiv} ({params[odiv]['expName']})\")\n",
    "    plt.ylabel(\"Total Baroclinic Conversion [TW]\")\n",
    "\n",
    "plt.subplot(1,3,2)\n",
    "plt.legend()\n",
    "plt.tight_layout()\n",
    "plt.grid(True, alpha=0.25)"
   ]
  }
 ],
 "metadata": {
  "kernelspec": {
   "display_name": "Python 3 (ipykernel)",
   "language": "python",
   "name": "python3"
  },
  "language_info": {
   "codemirror_mode": {
    "name": "ipython",
    "version": 3
   },
   "file_extension": ".py",
   "mimetype": "text/x-python",
   "name": "python",
   "nbconvert_exporter": "python",
   "pygments_lexer": "ipython3",
   "version": "3.11.9"
  }
 },
 "nbformat": 4,
 "nbformat_minor": 5
}
