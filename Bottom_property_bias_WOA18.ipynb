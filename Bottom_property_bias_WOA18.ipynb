{
 "cells": [
  {
   "cell_type": "markdown",
   "id": "8bfb94a9-e573-406d-b140-86af797d9523",
   "metadata": {},
   "source": [
    "# Bottom property bias - WOA18"
   ]
  },
  {
   "cell_type": "markdown",
   "id": "bb7a4fa0-db98-49a6-85c4-94096b405a03",
   "metadata": {},
   "source": [
    "This notebook plots the bottom property bias of a model simulation vs. the World Ocean Atlas (2018) gridded hydrography product.\n",
    "\n",
    "For the WOA product, we find the bottom-most data value in each grid column."
   ]
  },
  {
   "cell_type": "code",
   "execution_count": null,
   "id": "68078c46-4b7b-4b2f-b8c1-2d2538f46ebc",
   "metadata": {},
   "outputs": [],
   "source": [
    "import os\n",
    "import datetime"
   ]
  },
  {
   "cell_type": "code",
   "execution_count": null,
   "id": "50093a3b-2193-4041-8409-de3dc594cf7d",
   "metadata": {},
   "outputs": [],
   "source": [
    "config = {\n",
    "    \"startyr\": \"1975\",\n",
    "    \"endyr\": \"2015\",\n",
    "    \"dora_id\": \"odiv-368\",\n",
    "    \"pathPP\": None,\n",
    "}"
   ]
  },
  {
   "cell_type": "markdown",
   "id": "b3f810d8-4fac-4b1b-afc3-14077762b34a",
   "metadata": {},
   "source": [
    "MAR will pass for environment variables to the script when running via the web engine:\n",
    "\n",
    "* `MAR_STARTYR`: Beginning year of analysis from model\n",
    "* `MAR_ENDYR`: Ending year of analysis from model\n",
    "* `MAR_DORA_ID`: The experiment ID in the database\n",
    "* `MAR_PATHPP`: The top-level path to the post-processing experiment directory of the experiment\n",
    "\n",
    "The block below will use values passed in by Dora but default to the values defined above in `config`. This is useful for interactive usage and debugging.\n",
    "\n",
    "If executed from Dora, there will also be a `DORA_EXECUTE` variable that is set."
   ]
  },
  {
   "cell_type": "code",
   "execution_count": null,
   "id": "3ed173d4-cc6d-4693-934a-ff02dd96e632",
   "metadata": {},
   "outputs": [],
   "source": [
    "for k, v in config.items():\n",
    "    config[k] = (\n",
    "        os.environ[f\"MAR_{k.upper()}\"]\n",
    "        if f\"MAR_{k.upper()}\" in os.environ.keys()\n",
    "        else v\n",
    "    )"
   ]
  },
  {
   "cell_type": "markdown",
   "id": "74366b78-6b75-4210-9ed3-24cef6af4550",
   "metadata": {},
   "source": [
    "### Import Python Modules"
   ]
  },
  {
   "cell_type": "code",
   "execution_count": null,
   "id": "dfcdc828-ad45-4ef0-92bc-05df9c036270",
   "metadata": {},
   "outputs": [],
   "source": [
    "import doralite\n",
    "import glob\n",
    "import momlevel\n",
    "import subprocess\n",
    "\n",
    "import numpy as np\n",
    "import xarray as xr\n",
    "import matplotlib.pyplot as plt\n",
    "import cartopy.crs as ccrs\n",
    "\n",
    "from matplotlib.colors import ListedColormap, BoundaryNorm"
   ]
  },
  {
   "cell_type": "code",
   "execution_count": null,
   "id": "806241bd-ebea-4640-ab69-cea6edba62de",
   "metadata": {},
   "outputs": [],
   "source": [
    "# momgrid will use a directory of pre-computed weights that is used for calculating basic area-weighted statistics later\n",
    "import momgrid\n",
    "os.environ[\"MOMGRID_WEIGHTS_DIR\"] = \"/nbhome/John.Krasting/grid_weights\""
   ]
  },
  {
   "cell_type": "markdown",
   "id": "d3ddbddd-eed1-4ac4-9123-6c7df5fcab03",
   "metadata": {},
   "source": [
    "### Definie Local Parameters"
   ]
  },
  {
   "cell_type": "code",
   "execution_count": null,
   "id": "04229c22-3781-400f-a390-8c5eaaef5189",
   "metadata": {},
   "outputs": [],
   "source": [
    "# Define some local variables. These are taken from the doralite object\n",
    "# or they can be defined locally\n",
    "\n",
    "experiment =  doralite.dora_metadata(config[\"dora_id\"])\n",
    "pathPP = experiment[\"pathPP\"]\n",
    "expName = experiment[\"expName\"]\n",
    "\n",
    "# Define start and end years\n",
    "start = int(config[\"startyr\"])\n",
    "end = int(config[\"endyr\"])"
   ]
  },
  {
   "cell_type": "markdown",
   "id": "a8642873-93e4-4e1f-9486-435d6070fc43",
   "metadata": {},
   "source": [
    "### Determine What Files to Load"
   ]
  },
  {
   "cell_type": "code",
   "execution_count": null,
   "id": "382835f3-a3d7-419f-a92f-e65808230c59",
   "metadata": {},
   "outputs": [],
   "source": [
    "# Determine what files are needed (leave this up to the developer for flexibility)\n",
    "# This is an example of what someone might do:\n",
    "\n",
    "component = \"ocean_monthly\"\n",
    "static = f\"{component}/{component}.static.nc\"\n",
    "varnames = [\"tob\", \"sob\"]\n",
    "\n",
    "chunk = \"5yr\"\n",
    "filelists = [\n",
    "    sorted(glob.glob(f\"{pathPP}{component}/ts/**/{chunk}/{component}.*.{varname}.nc\", recursive=True))\n",
    "    for varname in varnames\n",
    "]\n",
    "filelist = [e for fl in filelists for e in fl]\n",
    "\n",
    "def is_in_range(file,start,end):\n",
    "    start = int(start)\n",
    "    end = int(end)\n",
    "    target = set(list(range(start,end+1)))\n",
    "    fname = os.path.basename(file)\n",
    "    times = fname.split(\".\")[1]\n",
    "    times = times.split(\"-\")\n",
    "    times = [int(x[0:4]) for x in times]\n",
    "    candidate = set(list(range(times[0],times[1]+1)))\n",
    "    return len(candidate.intersection(target)) > 0\n",
    "\n",
    "filelist = [x for x in filelist if is_in_range(x,start,end)]\n",
    "staticfile = f\"{pathPP}/{static}\"\n",
    "\n",
    "_ = [print(x) for x in filelist]"
   ]
  },
  {
   "cell_type": "markdown",
   "id": "4bfd8545-cb3b-43ee-b1fb-e71a99fe3262",
   "metadata": {},
   "source": [
    "### DMgetting Files"
   ]
  },
  {
   "cell_type": "markdown",
   "id": "736dbdaa-f8ed-4ad8-a641-eee616041458",
   "metadata": {},
   "source": [
    "Dora cannot issue calls to dmget"
   ]
  },
  {
   "cell_type": "code",
   "execution_count": null,
   "id": "7096dc5b-559b-4221-a189-0836d77afd12",
   "metadata": {},
   "outputs": [],
   "source": [
    "if not \"DORA_EXECUTE\" in os.environ.keys():\n",
    "    print(\"Calling dmget on files ...\")\n",
    "    cmd = [\"dmget\"]+filelist+[staticfile]\n",
    "    _ = subprocess.check_output(cmd)"
   ]
  },
  {
   "cell_type": "markdown",
   "id": "b32a4d6d-e5a7-4477-af8f-9e5468e3babc",
   "metadata": {},
   "source": [
    "### Load model data and grid"
   ]
  },
  {
   "cell_type": "code",
   "execution_count": null,
   "id": "70b1b444-20e4-4e63-b8a6-4d076d977eb2",
   "metadata": {},
   "outputs": [],
   "source": [
    "ds = momgrid.Gridset(filelist, force_symmetric=True, return_corners=True)\n",
    "model_type = ds.model\n",
    "ds = ds.data.sel(time=slice(f\"{str(start).zfill(4)}-01-01\",f\"{str(end).zfill(4)}-12-31\"))"
   ]
  },
  {
   "cell_type": "markdown",
   "id": "3281e9a1-7d5d-4b51-afd8-867b973e2e10",
   "metadata": {},
   "source": [
    "### Load observational data (if needed)"
   ]
  },
  {
   "cell_type": "markdown",
   "id": "1cd28781-a0f9-44b5-9ef7-fc8251601eca",
   "metadata": {},
   "source": [
    "Note that Dora only mounts `/archive`, `/nbhome`, and `/home`"
   ]
  },
  {
   "cell_type": "code",
   "execution_count": null,
   "id": "3f322d2e-1c88-479f-86c7-5910d71cf3f9",
   "metadata": {},
   "outputs": [],
   "source": [
    "if \"om4\" in model_type:\n",
    "    dsobs = \"/archive/jpk/datasets/OM5/obs/WOA18/WOA18_z_35level_OM4_1080x1440_annual_v20240602.nc\"\n",
    "elif \"om5\" in model_type:\n",
    "    dsobs = \"/archive/jpk/datasets/OM5/obs/WOA18/WOA18_z_35level_OM5_1161x1440_annual_v20240602.nc\"\n",
    "else:\n",
    "    raise ValueError(f\"Model type {model_type} not supported\")\n",
    "\n",
    "dsobs = xr.open_dataset(dsobs).isel(time=0)\n",
    "dsobs = dsobs.assign_coords({\"xh\": ds.xh, \"yh\": ds.yh})\n",
    "\n",
    "# Get select bottom most numerical value\n",
    "dsobs['tob'] = dsobs['thetao'].isel(z_l=np.isnan(dsobs['thetao']).argmax(\"z_l\")-1)\n",
    "dsobs['sob'] = dsobs['so'].isel(z_l=np.isnan(dsobs['so']).argmax(\"z_l\")-1)"
   ]
  },
  {
   "cell_type": "markdown",
   "id": "20efeacb-e03c-4ddb-8f12-1cb67dee8a4e",
   "metadata": {},
   "source": [
    "### Define some helper function for the plots"
   ]
  },
  {
   "cell_type": "code",
   "execution_count": null,
   "id": "c4fa45cd-e682-4aac-a98c-a0af350de2a3",
   "metadata": {},
   "outputs": [],
   "source": [
    "def gen_levs_and_cmap(start,end,delta,cmap=\"RdBu_r\"):\n",
    "    \"\"\"Generates a difference colormap centered on white\"\"\"\n",
    "    boundaries = np.arange(start,end,delta)\n",
    "    levels = (boundaries[0:-1] + boundaries[1:]) / 2.\n",
    "    base_cmap = plt.get_cmap(cmap)\n",
    "    colors = base_cmap(np.linspace(0, 1, len(levels)))\n",
    "    colors[[int(len(colors) / 2) - 1]] = [1, 1, 1, 1]\n",
    "    colors[[int(len(colors) / 2)]] = [1, 1, 1, 1]\n",
    "    cmap = ListedColormap(colors)\n",
    "    norm = BoundaryNorm(boundaries, cmap.N, clip=True)\n",
    "    return (cmap, norm, boundaries)"
   ]
  },
  {
   "cell_type": "code",
   "execution_count": null,
   "id": "294f6a30-47b8-4938-8fa4-f6390e841234",
   "metadata": {},
   "outputs": [],
   "source": [
    "def set_annotaions(ax, title):\n",
    "    _ = ax.set_xticks([])\n",
    "    _ = ax.set_yticks([])\n",
    "    _ = ax.text(0.0,1.06, title, weight=\"bold\", fontsize=12, transform=ax.transAxes)\n",
    "    _ = ax.text(0.0,1.02, expName, style=\"italic\", fontsize=10, transform=ax.transAxes)\n",
    "    _ = ax.text(1.0,1.05, str(starttime.values), ha=\"right\", fontsize=8, transform=ax.transAxes)\n",
    "    _ = ax.text(1.0,1.02, str(endtime.values), ha=\"right\", fontsize=8, transform=ax.transAxes)"
   ]
  },
  {
   "cell_type": "code",
   "execution_count": null,
   "id": "574269bd-afb5-437f-ad30-703b70489d85",
   "metadata": {},
   "outputs": [],
   "source": [
    "def add_stats_box(ax, stats_str, x=0.015, y=0.8):\n",
    "        # Adding the text box annotation\n",
    "    props = dict(\n",
    "        boxstyle=\"round,pad=0.3\", edgecolor=\"black\", linewidth=1.5, facecolor=\"white\"\n",
    "    )\n",
    "    ax.text(\n",
    "        x,\n",
    "        y,\n",
    "        stats_str,\n",
    "        transform=ax.transAxes,\n",
    "        fontsize=8,\n",
    "        verticalalignment=\"top\",\n",
    "        bbox=props,\n",
    "    )"
   ]
  },
  {
   "cell_type": "code",
   "execution_count": null,
   "id": "80be5109-0e21-450c-827f-2bed52263b00",
   "metadata": {},
   "outputs": [],
   "source": [
    "def calculate_stats(model,obs,areacello):\n",
    "    diff = model - obs\n",
    "    stats = {}\n",
    "    stats[\"min\"] = float(diff.min())\n",
    "    stats[\"max\"] = float(diff.max())\n",
    "    stats = {**stats, **momgrid.xr_stats.xr_stats_2d(model,obs,ds.areacello,fmt=\"dict\")}\n",
    "    # Limit to 4 significant digits\n",
    "    stats = {k:f\"{v:.4g}\" for k,v in stats.items()}\n",
    "    # Stats string\n",
    "    stats_str = str(\"\\n\").join([f\"{k} = {v}\" for k,v in stats.items()])\n",
    "    return (stats, stats_str)"
   ]
  },
  {
   "cell_type": "code",
   "execution_count": null,
   "id": "aadf7139-8861-4a4a-8a2a-1a6c6244cc37",
   "metadata": {},
   "outputs": [],
   "source": [
    "def add_colorbar(fig, cb, boundaries, label):\n",
    "    cbar_ax = fig.add_axes([0.16, 0.06, 0.7, 0.03])\n",
    "    fig.colorbar(\n",
    "        cb, cax=cbar_ax, orientation=\"horizontal\", extend=\"both\", ticks=boundaries[::4], label=label\n",
    "    )"
   ]
  },
  {
   "cell_type": "markdown",
   "id": "d9fb9c99-0918-484c-9bf8-3d32d7afc082",
   "metadata": {},
   "source": [
    "### Perform some calculations"
   ]
  },
  {
   "cell_type": "code",
   "execution_count": null,
   "id": "0f1309d7-1411-47ce-9aa0-440c4ece8724",
   "metadata": {},
   "outputs": [],
   "source": [
    "# Time-average the model data\n",
    "model = ds\n",
    "starttime = model.time[0]\n",
    "endtime = model.time[-1]\n",
    "model = momlevel.util.annual_average(model[[\"tob\", \"sob\"]]).mean(\"time\", keep_attrs=True).load()\n",
    "\n",
    "# Obs data is already a climatology\n",
    "obs = dsobs[[\"tob\", \"sob\"]]"
   ]
  },
  {
   "cell_type": "markdown",
   "id": "6bd979de-61bb-449e-b447-9e959e640406",
   "metadata": {},
   "source": [
    "### Establish a Dictionary to Store Scalar Metrics"
   ]
  },
  {
   "cell_type": "code",
   "execution_count": null,
   "id": "c885c9d6-b164-47b8-a473-f9f6851795db",
   "metadata": {},
   "outputs": [],
   "source": [
    "stats_dict = {}\n",
    "stats_dict[\"metadata\"] = {\n",
    "    \"expName\": str(expName),\n",
    "    \"created\": datetime.datetime.now().isoformat(),\n",
    "    \"starttime\": str(starttime.values),\n",
    "    \"endtime\": str(endtime.values),\n",
    "}\n",
    "stats_dict[\"results\"] = {}\n",
    "stats_dict"
   ]
  },
  {
   "cell_type": "code",
   "execution_count": null,
   "id": "77df75fe-0b2a-4659-aff8-f23708e1003d",
   "metadata": {},
   "outputs": [],
   "source": [
    "# Setup plot\n",
    "for v, arange in zip([\"tob\", \"sob\"], [(-2, 2.1, 0.1), (-1, 1, 0.05)]):\n",
    "    \n",
    "    # Definie geolon and geolat for plotting (use corners!)\n",
    "    fig = plt.figure(figsize=(10,6))\n",
    "    ax = plt.subplot(1,1,1, facecolor=\"lightgray\")\n",
    "\n",
    "    x = ds.geolon_c\n",
    "    y = ds.geolat_c\n",
    "    \n",
    "    # Get colormap\n",
    "    cmap, norm, boundaries = gen_levs_and_cmap(*arange)\n",
    "    \n",
    "    # Run pcolormesh\n",
    "    cb = plt.pcolormesh(x,y, model[v]-obs[v], cmap=cmap, norm=norm)\n",
    "    \n",
    "    # Clean up figure and add labels\n",
    "    set_annotaions(ax, f\"{ds[v].attrs['long_name']} relative to WOA18 (1975-2015)\")\n",
    "    \n",
    "    # Add statistics\n",
    "    stats, stats_str = calculate_stats(model[v], obs[v], ds.areacello)\n",
    "    add_stats_box(ax, stats_str)\n",
    "    \n",
    "    # Add colorbar\n",
    "    add_colorbar(fig, cb, boundaries, ds[v].attrs[\"units\"])\n",
    "    \n",
    "    # Save stats\n",
    "    stats_dict[\"results\"][f\"global_{v}\"] = stats"
   ]
  },
  {
   "cell_type": "markdown",
   "id": "b6d78292-72df-488d-a638-0628000cc7d3",
   "metadata": {},
   "source": [
    "### Write Stats to a File"
   ]
  },
  {
   "cell_type": "code",
   "execution_count": null,
   "id": "53578224-09ad-4f27-b203-e2464682ff4f",
   "metadata": {},
   "outputs": [],
   "source": [
    "if not \"DORA_EXECUTE\" in os.environ.keys():\n",
    "    import yaml\n",
    "    yml = yaml.dump(stats_dict)\n",
    "    with open('bottom_property_stats.yaml', 'w') as file:\n",
    "        file.write(yml)\n",
    "    file.close()\n",
    "    print(yml)"
   ]
  },
  {
   "cell_type": "code",
   "execution_count": null,
   "id": "0bf66ed0-8b67-4055-8638-c94521b1d7d4",
   "metadata": {},
   "outputs": [],
   "source": []
  }
 ],
 "metadata": {
  "kernelspec": {
   "display_name": "Python 3 (ipykernel)",
   "language": "python",
   "name": "python3"
  },
  "language_info": {
   "codemirror_mode": {
    "name": "ipython",
    "version": 3
   },
   "file_extension": ".py",
   "mimetype": "text/x-python",
   "name": "python",
   "nbconvert_exporter": "python",
   "pygments_lexer": "ipython3",
   "version": "3.11.9"
  }
 },
 "nbformat": 4,
 "nbformat_minor": 5
}
